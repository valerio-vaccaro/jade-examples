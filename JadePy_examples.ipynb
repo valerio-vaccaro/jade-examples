{
 "cells": [
  {
   "cell_type": "markdown",
   "id": "03003bbf",
   "metadata": {},
   "source": [
    "# Jade python examples\n",
    "This file shows some interaction with a Jade hardware wallet initialized with mnemonic: \"harvest nothing poem series trumpet silent forget two twist since embody cotton\"\n",
    "\n",
    "First we need to import libs and set some constants like serial port and network. We will works with Bitcoin testnet.\n",
    "\n",
    "JadePy is available on Jade github repository - [github.com/Blockstream/Jade/](https://github.com/Blockstream/Jade/)"
   ]
  },
  {
   "cell_type": "code",
   "execution_count": 1,
   "id": "f6bec4d7",
   "metadata": {},
   "outputs": [],
   "source": [
    "import sys\n",
    "import logging\n",
    "from jadepy import JadeAPI\n",
    "\n",
    "SERIAL_PORT = '/dev/ttyUSB0'\n",
    "NETWORK = 'testnet'"
   ]
  },
  {
   "cell_type": "markdown",
   "id": "55cf3465",
   "metadata": {},
   "source": [
    "We can enable Jade logging in order to have debug messages."
   ]
  },
  {
   "cell_type": "code",
   "execution_count": 2,
   "id": "d84a54d6",
   "metadata": {},
   "outputs": [],
   "source": [
    "jadehandler = logging.StreamHandler()\n",
    "jadehandler.setLevel(logging.INFO)\n",
    "\n",
    "logger = logging.getLogger('jade')\n",
    "logger.setLevel(logging.DEBUG)\n",
    "logger.addHandler(jadehandler)\n",
    "\n",
    "logger = logging.getLogger('jade-device')\n",
    "logger.setLevel(logging.DEBUG)\n",
    "logger.addHandler(jadehandler)"
   ]
  },
  {
   "cell_type": "markdown",
   "id": "f899a03b",
   "metadata": {},
   "source": [
    "Now we can connect to the serial device and print version info."
   ]
  },
  {
   "cell_type": "code",
   "execution_count": 3,
   "id": "8da7f709",
   "metadata": {},
   "outputs": [
    {
     "name": "stderr",
     "output_type": "stream",
     "text": [
      "Connecting to /dev/ttyUSB0 at 115200\n",
      "Connected\n",
      "Sending: {'method': 'get_version_info', 'id': '142771'} as cbor of size 35\n",
      "Received msg: {'id': '142771', 'result': {'JADE_VERSION': '0.1.41', 'JADE_OTA_MAX_CHUNK': 4096, 'JADE_CONFIG': 'NORADIO', 'BOARD_TYPE': 'JADE_V1.1', 'JADE_FEATURES': 'DEV', 'IDF_VERSION': 'v4.4.2', 'CHIP_FEATURES': '32000000', 'EFUSEMAC': '083AF26914E0', 'BATTERY_STATUS': 5, 'JADE_STATE': 'READY', 'JADE_NETWORKS': 'TEST', 'JADE_HAS_PIN': True}}\n",
      "Sending: {'method': 'auth_user', 'id': '520864', 'params': {'network': 'testnet', 'epoch': 1668549095}} as cbor of size 63\n"
     ]
    },
    {
     "name": "stdout",
     "output_type": "stream",
     "text": [
      "{'JADE_VERSION': '0.1.41', 'JADE_OTA_MAX_CHUNK': 4096, 'JADE_CONFIG': 'NORADIO', 'BOARD_TYPE': 'JADE_V1.1', 'JADE_FEATURES': 'DEV', 'IDF_VERSION': 'v4.4.2', 'CHIP_FEATURES': '32000000', 'EFUSEMAC': '083AF26914E0', 'BATTERY_STATUS': 5, 'JADE_STATE': 'READY', 'JADE_NETWORKS': 'TEST', 'JADE_HAS_PIN': True}\n"
     ]
    },
    {
     "name": "stderr",
     "output_type": "stream",
     "text": [
      "Received msg: {'id': '520864', 'result': True}\n",
      "Sending: {'method': 'get_xpub', 'id': '502951', 'params': {'network': 'testnet', 'path': [2147483692, 2147483649, 2147483648]}} as cbor of size 72\n",
      "Received msg: {'id': '502951', 'result': 'tpubDD7f4vyANzRkw9aYyrtaakgFJPeCC5pkgbL31mHBvXujFEyh7VzfPseHNkH5zgoCGqQY33xN7mJg2JGFGHoCyFrmswKwwaGoi1uvjKVSXhe'}\n",
      "Sending: {'method': 'get_receive_address', 'id': '981991', 'params': {'network': 'testnet', 'path': [2147483692, 2147483649, 2147483648, 0, 0], 'variant': 'pkh(k)'}} as cbor of size 100\n"
     ]
    },
    {
     "name": "stdout",
     "output_type": "stream",
     "text": [
      "tpubDD7f4vyANzRkw9aYyrtaakgFJPeCC5pkgbL31mHBvXujFEyh7VzfPseHNkH5zgoCGqQY33xN7mJg2JGFGHoCyFrmswKwwaGoi1uvjKVSXhe\n"
     ]
    },
    {
     "name": "stderr",
     "output_type": "stream",
     "text": [
      "Received msg: {'id': '981991', 'result': 'n32duq5SZVw7RffPrrTzRuNDCWo1z75YuA'}\n",
      "Sending: {'method': 'sign_message', 'id': '344377', 'params': {'path': [2147483692, 2147483649, 2147483648, 0, 0], 'message': 'hello jade'}} as cbor of size 81\n"
     ]
    },
    {
     "name": "stdout",
     "output_type": "stream",
     "text": [
      "n32duq5SZVw7RffPrrTzRuNDCWo1z75YuA\n"
     ]
    },
    {
     "name": "stderr",
     "output_type": "stream",
     "text": [
      "Received msg: {'id': '344377', 'result': 'H/4B0G7/F1qfk8b8z/dC8Bvr5Rz1dgLyEzFFC1mrfMV6J/xsiIdCVr6ApMZqMuoUttYNaK1J0J/faXwNcQoNK28='}\n",
      "Draining interface...\n"
     ]
    },
    {
     "name": "stdout",
     "output_type": "stream",
     "text": [
      "H/4B0G7/F1qfk8b8z/dC8Bvr5Rz1dgLyEzFFC1mrfMV6J/xsiIdCVr6ApMZqMuoUttYNaK1J0J/faXwNcQoNK28=\n"
     ]
    },
    {
     "name": "stderr",
     "output_type": "stream",
     "text": [
      "\n"
     ]
    },
    {
     "ename": "AssertionError",
     "evalue": "",
     "output_type": "error",
     "traceback": [
      "\u001b[0;31m---------------------------------------------------------------------------\u001b[0m",
      "\u001b[0;31mAssertionError\u001b[0m                            Traceback (most recent call last)",
      "Cell \u001b[0;32mIn [3], line 17\u001b[0m\n\u001b[1;32m     14\u001b[0m signature \u001b[38;5;241m=\u001b[39m jade\u001b[38;5;241m.\u001b[39msign_message([\u001b[38;5;241m0x80000000\u001b[39m\u001b[38;5;241m+\u001b[39m\u001b[38;5;241m44\u001b[39m, \u001b[38;5;241m0x80000000\u001b[39m\u001b[38;5;241m+\u001b[39m\u001b[38;5;241m1\u001b[39m, \u001b[38;5;241m0x80000000\u001b[39m, \u001b[38;5;241m0\u001b[39m, \u001b[38;5;241m0\u001b[39m], \u001b[38;5;124m'\u001b[39m\u001b[38;5;124mhello jade\u001b[39m\u001b[38;5;124m'\u001b[39m)\n\u001b[1;32m     15\u001b[0m \u001b[38;5;28mprint\u001b[39m(signature)\n\u001b[0;32m---> 17\u001b[0m jade\u001b[38;5;241m.\u001b[39mdisconnect(drain\u001b[38;5;241m=\u001b[39m\u001b[38;5;28;01mTrue\u001b[39;00m)\n",
      "File \u001b[0;32m~/github/jade-examples/jadepy/jade.py:149\u001b[0m, in \u001b[0;36mJadeAPI.__exit__\u001b[0;34m(self, exc_type, exc, tb)\u001b[0m\n\u001b[1;32m    147\u001b[0m     logger\u001b[38;5;241m.\u001b[39minfo(exc)\n\u001b[1;32m    148\u001b[0m     traceback\u001b[38;5;241m.\u001b[39mprint_tb(tb)\n\u001b[0;32m--> 149\u001b[0m \u001b[38;5;28;43mself\u001b[39;49m\u001b[38;5;241;43m.\u001b[39;49m\u001b[43mdisconnect\u001b[49m\u001b[43m(\u001b[49m\u001b[43mexc_type\u001b[49m\u001b[43m \u001b[49m\u001b[38;5;129;43;01mis\u001b[39;49;00m\u001b[43m \u001b[49m\u001b[38;5;129;43;01mnot\u001b[39;49;00m\u001b[43m \u001b[49m\u001b[38;5;28;43;01mNone\u001b[39;49;00m\u001b[43m)\u001b[49m\n",
      "File \u001b[0;32m~/github/jade-examples/jadepy/jade.py:240\u001b[0m, in \u001b[0;36mJadeAPI.disconnect\u001b[0;34m(self, drain)\u001b[0m\n\u001b[1;32m    229\u001b[0m \u001b[38;5;28;01mdef\u001b[39;00m \u001b[38;5;21mdisconnect\u001b[39m(\u001b[38;5;28mself\u001b[39m, drain\u001b[38;5;241m=\u001b[39m\u001b[38;5;28;01mFalse\u001b[39;00m):\n\u001b[1;32m    230\u001b[0m     \u001b[38;5;124;03m\"\"\"\u001b[39;00m\n\u001b[1;32m    231\u001b[0m \u001b[38;5;124;03m    Disconnect the underlying transport (eg. serial, ble, etc.)\u001b[39;00m\n\u001b[1;32m    232\u001b[0m \n\u001b[0;32m   (...)\u001b[0m\n\u001b[1;32m    238\u001b[0m \u001b[38;5;124;03m        Defaults to False.\u001b[39;00m\n\u001b[1;32m    239\u001b[0m \u001b[38;5;124;03m    \"\"\"\u001b[39;00m\n\u001b[0;32m--> 240\u001b[0m     \u001b[38;5;28;43mself\u001b[39;49m\u001b[38;5;241;43m.\u001b[39;49m\u001b[43mjade\u001b[49m\u001b[38;5;241;43m.\u001b[39;49m\u001b[43mdisconnect\u001b[49m\u001b[43m(\u001b[49m\u001b[43mdrain\u001b[49m\u001b[43m)\u001b[49m\n",
      "File \u001b[0;32m~/github/jade-examples/jadepy/jade.py:1562\u001b[0m, in \u001b[0;36mJadeInterface.disconnect\u001b[0;34m(self, drain)\u001b[0m\n\u001b[1;32m   1559\u001b[0m \u001b[38;5;28;01mif\u001b[39;00m drain:\n\u001b[1;32m   1560\u001b[0m     \u001b[38;5;28mself\u001b[39m\u001b[38;5;241m.\u001b[39mdrain()\n\u001b[0;32m-> 1562\u001b[0m \u001b[38;5;28;43mself\u001b[39;49m\u001b[38;5;241;43m.\u001b[39;49m\u001b[43mimpl\u001b[49m\u001b[38;5;241;43m.\u001b[39;49m\u001b[43mdisconnect\u001b[49m\u001b[43m(\u001b[49m\u001b[43m)\u001b[49m\n",
      "File \u001b[0;32m~/github/jade-examples/jadepy/jade_serial.py:47\u001b[0m, in \u001b[0;36mJadeSerialImpl.disconnect\u001b[0;34m(self)\u001b[0m\n\u001b[1;32m     46\u001b[0m \u001b[38;5;28;01mdef\u001b[39;00m \u001b[38;5;21mdisconnect\u001b[39m(\u001b[38;5;28mself\u001b[39m):\n\u001b[0;32m---> 47\u001b[0m     \u001b[38;5;28;01massert\u001b[39;00m \u001b[38;5;28mself\u001b[39m\u001b[38;5;241m.\u001b[39mser \u001b[38;5;129;01mis\u001b[39;00m \u001b[38;5;129;01mnot\u001b[39;00m \u001b[38;5;28;01mNone\u001b[39;00m\n\u001b[1;32m     49\u001b[0m     \u001b[38;5;66;03m# Ensure RTS and DTR are not set (as this can cause the hw to reboot)\u001b[39;00m\n\u001b[1;32m     50\u001b[0m     \u001b[38;5;66;03m# and then close the connection\u001b[39;00m\n\u001b[1;32m     51\u001b[0m     \u001b[38;5;28mself\u001b[39m\u001b[38;5;241m.\u001b[39mser\u001b[38;5;241m.\u001b[39msetRTS(\u001b[38;5;28;01mFalse\u001b[39;00m)\n",
      "\u001b[0;31mAssertionError\u001b[0m: "
     ]
    }
   ],
   "source": [
    "with JadeAPI.create_serial(device=SERIAL_PORT, timeout=120) as jade:\n",
    "    version_info = jade.get_version_info()\n",
    "    print(version_info)\n",
    "\n",
    "    while jade.auth_user(NETWORK) is not True:\n",
    "        print('Error - please try again')\n",
    "        \n",
    "    xpub = jade.get_xpub(NETWORK, [0x80000000+44, 0x80000000+1, 0x80000000])\n",
    "    print(xpub)\n",
    "    \n",
    "    address = jade.get_receive_address(NETWORK, [0x80000000+44, 0x80000000+1, 0x80000000, 0, 0], variant='pkh(k)')\n",
    "    print(address)\n",
    "    \n",
    "    signature = jade.sign_message([0x80000000+44, 0x80000000+1, 0x80000000, 0, 0], 'hello jade')\n",
    "    print(signature)\n",
    "    \n",
    "    jade.disconnect(drain=True)"
   ]
  }
 ],
 "metadata": {
  "kernelspec": {
   "display_name": "Python 3 (ipykernel)",
   "language": "python",
   "name": "python3"
  },
  "language_info": {
   "codemirror_mode": {
    "name": "ipython",
    "version": 3
   },
   "file_extension": ".py",
   "mimetype": "text/x-python",
   "name": "python",
   "nbconvert_exporter": "python",
   "pygments_lexer": "ipython3",
   "version": "3.9.15"
  }
 },
 "nbformat": 4,
 "nbformat_minor": 5
}
